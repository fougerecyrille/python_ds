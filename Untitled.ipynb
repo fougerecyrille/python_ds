{
 "cells": [
  {
   "cell_type": "markdown",
   "id": "c1d8e4f4-7d26-4ac7-8210-534781d23e43",
   "metadata": {},
   "source": [
    "# Python appliqué à la data science : Un aperçu de la politique agricole européenne\n",
    "## Notebook de Matéo Amazo, Cyrille Fougère, Mathilde Sérougne\n",
    "## Décembre 2023 - enseignement de M. Lino Galiana"
   ]
  },
  {
   "cell_type": "code",
   "execution_count": null,
   "id": "08f7a967-e832-4b1c-8dd7-79b1895552a3",
   "metadata": {},
   "outputs": [],
   "source": []
  }
 ],
 "metadata": {
  "kernelspec": {
   "display_name": "Python 3 (ipykernel)",
   "language": "python",
   "name": "python3"
  },
  "language_info": {
   "codemirror_mode": {
    "name": "ipython",
    "version": 3
   },
   "file_extension": ".py",
   "mimetype": "text/x-python",
   "name": "python",
   "nbconvert_exporter": "python",
   "pygments_lexer": "ipython3",
   "version": "3.10.13"
  }
 },
 "nbformat": 4,
 "nbformat_minor": 5
}
