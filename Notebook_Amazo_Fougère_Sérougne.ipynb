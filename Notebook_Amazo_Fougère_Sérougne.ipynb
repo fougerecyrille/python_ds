{
 "cells": [
  {
   "cell_type": "markdown",
   "id": "c1d8e4f4-7d26-4ac7-8210-534781d23e43",
   "metadata": {},
   "source": [
    "# Python appliqué à la data science : Un aperçu de la politique agricole européenne\n",
    "## Notebook de Matéo Amazo, Cyrille Fougère, Mathilde Sérougne\n",
    "## Décembre 2023 - enseignement de M. Lino Galiana"
   ]
  },
  {
   "cell_type": "markdown",
   "id": "e26dde78-c66e-49b0-99c9-f73faaac1bff",
   "metadata": {},
   "source": [
    "### A few descriptive statistics.\r\n",
    "\r\n",
    "To start with our work on the agricultural practices in Europe, we wanted to start with a general overview of these practices in a selection of a few European countries.  \r\n",
    "We based our work on the public ressources of the Eurostat public institure. These datasets are available under Excel and CSV, and are sorted by year. Since it is possible to choose the geopolitical entity studied (European Union, a country, a principality), we generated personalized datasets about five countries : France, Germany, Greece, Italy, and Spain.  \r\n",
    "This allowed us to produce a few descriptive graphics about the types of agricultural production, the regions concerned by these practices, and the economic output linked to them.  \r\n",
    "Here are the corresponding Python codes, organized by country.\r\n"
   ]
  },
  {
   "cell_type": "code",
   "execution_count": null,
   "id": "09462895-ebb3-45bc-91e4-3588e37cd190",
   "metadata": {},
   "outputs": [],
   "source": []
  }
 ],
 "metadata": {
  "kernelspec": {
   "display_name": "Python 3 (ipykernel)",
   "language": "python",
   "name": "python3"
  },
  "language_info": {
   "codemirror_mode": {
    "name": "ipython",
    "version": 3
   },
   "file_extension": ".py",
   "mimetype": "text/x-python",
   "name": "python",
   "nbconvert_exporter": "python",
   "pygments_lexer": "ipython3",
   "version": "3.10.13"
  }
 },
 "nbformat": 4,
 "nbformat_minor": 5
}
