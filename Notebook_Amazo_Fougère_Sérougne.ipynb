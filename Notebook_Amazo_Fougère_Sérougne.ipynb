{
 "cells": [
  {
   "cell_type": "markdown",
   "id": "c1d8e4f4-7d26-4ac7-8210-534781d23e43",
   "metadata": {},
   "source": [
    "# Python appliqué à la data science : Un aperçu de la politique agricole européenne\n",
    "## Notebook by Matéo Amazo, Cyrille Fougère, Mathilde Sérougne\n",
    "## December 2023 - course taught by M. Lino Galiana"
   ]
  },
  {
   "cell_type": "markdown",
   "id": "165cf8e4-2407-4576-a584-8085a2dce85a",
   "metadata": {},
   "source": [
    "### A few descriptive statistics.\n",
    "\n",
    "To start with our work on the agricultural practices in Europe, we wanted to start with a general overview of these practices in **a selection of a few European countries**.  \n",
    "We based our work on the public ressources of the **[Eurostat](https://ec.europa.eu/eurostat/en/)** public institute. We got general idea of how the datasets were built, and how we could use it to get an overview of the subject, from an article describing the state of the agricultural practices of Greece (https://ec.europa.eu/eurostat/statistics-explained/index.php?title=Archive:Agricultural_census_in_Greece&direction=next&oldid=407500#Database).  \n",
    "\n",
    "Here is an example of a statistic table found in the article.\n",
    "\n",
    "![example of a statistic table found in the article](https://ec.europa.eu/eurostat/statistics-explained/images/2/27/Table_Farm_Structure_key_indicators_GR_2000_2010.PNG) \n"
   ]
  },
  {
   "cell_type": "markdown",
   "id": "e8a505fd-3e6f-4aca-8fe6-11c54832cb8d",
   "metadata": {},
   "source": [
    "These datasets are available under Excel and CSV, and are sorted by year. Since it is possible to choose the geopolitical entity studied (European Union, a country, a principality), we generated personalized datasets about five countries : France, Germany, Greece, Italy, and Spain.  \n",
    "[Here is the link to the Data Broswer by Eurostat](https://ec.europa.eu/eurostat/databrowser/view/ef_kvaareg/default/table?lang=en)  \n",
    "This allowed us to produce a few descriptive graphics about the types of agricultural production, the regions concerned by these practices, and the economic output linked to them.  \n",
    "Here are the corresponding Python codes, organized by country.\n"
   ]
  },
  {
   "cell_type": "markdown",
   "id": "d47296b9-1225-4d83-a633-6e3f0e63e012",
   "metadata": {},
   "source": [
    "**France**"
   ]
  },
  {
   "cell_type": "markdown",
   "id": "6ed6729e-a717-4256-8797-0cbc8915a32a",
   "metadata": {},
   "source": [
    "**Germany**"
   ]
  },
  {
   "cell_type": "markdown",
   "id": "610fa945-ee71-456b-9958-224e4a5b509f",
   "metadata": {},
   "source": [
    "**Greece**"
   ]
  },
  {
   "cell_type": "markdown",
   "id": "37372a1f-26cf-48f5-9beb-8ae3b7bc2a14",
   "metadata": {},
   "source": [
    "**Italy**"
   ]
  },
  {
   "cell_type": "markdown",
   "id": "4c97f001-3230-4e2f-8536-3cac9855e5a1",
   "metadata": {},
   "source": [
    "**S"
   ]
  },
  {
   "cell_type": "markdown",
   "id": "8825cdcd-e231-415e-ab1e-3ea273e5d077",
   "metadata": {},
   "source": [
    "### First geographic analysis : the case of France\n",
    "\n",
    "While thinking a bit deeper into the question of agricultural practices, we soon realized that the data concerning agriculture was often implicitely and explicitely linked to the question of sustainability. We thought it would be appropriate to think about what is done (on the level of territorial policies) to create new trends in agriculture.  \n",
    "We decided to focus ourselves on the case of France, since it is the country we were the most familiar with (in terms of geography and administrative structures).\n"
   ]
  },
  {
   "cell_type": "markdown",
   "id": "5fc3fe3f-68a6-4967-b228-e0070e69bf5b",
   "metadata": {},
   "source": [
    "**Mapping an agricultural policy : the biological holdings in France**"
   ]
  },
  {
   "cell_type": "markdown",
   "id": "5825bc41-fccb-4168-a4d5-de7f5b2dca33",
   "metadata": {},
   "source": [
    "This focus on the \"Bio\" seemed necessary to us, in terms of sustainability (and what the future of agriculture should look like) but also in terms of policy making. The most recent reform of the Common Agricultural Policy (CAP) is indeed very oriented towards goals of sustainability, with a bonification of the amount perceived by a holding that follows a certain amount of specifications.  \n",
    "The following graph, found in a CAP brochure, shows that sustainability intervenes in two out of the three paths to perceive the CAP : biodiversity and certifications (both mentioned corresponding to the \"environmental value\" of the holding, i.e. the holding preserves the ecosystem and minimizes the pressure put on the naturel environment). In addition to that, holdings can get a bonus if a proportion of the surface is occupied by trees or hurdles.   \n",
    "![explanations on the calculation of the CAP](https://conseilenagriculture.fr/wp-content/uploads/2022/05/pac2023tableau1.png)  \n"
   ]
  },
  {
   "cell_type": "markdown",
   "id": "7dbea80a-e500-465d-8525-2192651186bb",
   "metadata": {},
   "source": [
    "Taking this into account, we consulted the public data from the Franch government.  \n",
    "Not only did we find some data about the amount of Bio holdings, but we found them in a geographic format, which allowed us to visualize them on a map. The labels of the variables and the links to download the dataset were found [on this DataGouv page](https://www.data.gouv.fr/fr/datasets/parcelles-en-agriculture-biologique-ab-declarees-a-la-pac/).  "
   ]
  },
  {
   "cell_type": "markdown",
   "id": "41764d73-728c-4bb1-b251-939351816d34",
   "metadata": {},
   "source": [
    "**Code to visualize the data**"
   ]
  },
  {
   "cell_type": "code",
   "execution_count": null,
   "id": "3b71b51b-f630-45b2-a0ed-9db97aadaef1",
   "metadata": {},
   "outputs": [],
   "source": []
  }
 ],
 "metadata": {
  "kernelspec": {
   "display_name": "Python 3 (ipykernel)",
   "language": "python",
   "name": "python3"
  },
  "language_info": {
   "codemirror_mode": {
    "name": "ipython",
    "version": 3
   },
   "file_extension": ".py",
   "mimetype": "text/x-python",
   "name": "python",
   "nbconvert_exporter": "python",
   "pygments_lexer": "ipython3",
   "version": "3.10.13"
  }
 },
 "nbformat": 4,
 "nbformat_minor": 5
}
